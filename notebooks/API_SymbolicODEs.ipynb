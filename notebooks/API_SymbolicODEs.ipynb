{
 "cells": [
  {
   "cell_type": "code",
   "execution_count": 1,
   "metadata": {},
   "outputs": [],
   "source": [
    "import numpy\n",
    "import sympy\n",
    "import sympy.codegen.rewriting\n",
    "\n",
    "#import pysundials_cffi\n",
    "#from pysundials_cffi import lambdify"
   ]
  },
  {
   "cell_type": "code",
   "execution_count": 16,
   "metadata": {},
   "outputs": [],
   "source": [
    "def dydt(y, theta):\n",
    "    S, X = y\n",
    "    mu_max, K_S, Y_XS = theta\n",
    "    dXdt = mu_max * S / (K_S + S)\n",
    "    return [\n",
    "        -Y_XS * dXdt,\n",
    "        dXdt\n",
    "    ]\n",
    "\n",
    "def optimize(system):\n",
    "    \"\"\"Applies expression optimization on elements in a matrix.\"\"\"\n",
    "    def optimizer(expr):\n",
    "        return sympy.codegen.rewriting.optimize(expr, sympy.codegen.rewriting.optims_c99)\n",
    "    return system.applyfunc(optimizer)\n",
    "\n",
    "class ODESystem:\n",
    "    def __init__(self, dydt, *, n_states, n_theta):\n",
    "        # set up symbolic represenations of state and parameter vectors\n",
    "        self.y = sympy.MatrixSymbol('y', n=n_states, m=1)\n",
    "        self.theta = sympy.MatrixSymbol('theta', n=n_theta, m=1)\n",
    "        self.v = sympy.MatrixSymbol('v', n_states, 1)\n",
    "        # pass symbolic vectors through the user-provided ode function and\n",
    "        # obtain optimized sympy expressions for all matrices that we'll need\n",
    "        self.odes = optimize(sympy.Matrix(dydt(self.y, self.theta)))\n",
    "        self.J = optimize(self.odes.jacobian(self.y))\n",
    "        self.Jv = optimize(self.odes.jacobian(self.y) * sympy.Matrix(self.v))\n",
    "        self.dy_dtheta = optimize(self.odes.jacobian(self.theta))\n",
    "        # TODO: compile numba functions for the expressions above\n",
    "        # TODO: wrap numba functions with cffi to make them act on sundials data types\n",
    "    "
   ]
  },
  {
   "cell_type": "code",
   "execution_count": 17,
   "metadata": {},
   "outputs": [
    {
     "data": {
      "text/latex": [
       "$\\displaystyle \\left[\\begin{matrix}- \\frac{\\theta_{0, 0} \\theta_{2, 0} y_{0, 0}}{\\theta_{1, 0} + y_{0, 0}}\\\\\\frac{\\theta_{0, 0} y_{0, 0}}{\\theta_{1, 0} + y_{0, 0}}\\end{matrix}\\right]$"
      ],
      "text/plain": [
       "Matrix([\n",
       "[-theta[0, 0]*theta[2, 0]*y[0, 0]/(theta[1, 0] + y[0, 0])],\n",
       "[             theta[0, 0]*y[0, 0]/(theta[1, 0] + y[0, 0])]])"
      ]
     },
     "execution_count": 17,
     "metadata": {},
     "output_type": "execute_result"
    }
   ],
   "source": [
    "system = ODESystem(dydt, n_states=2, n_theta=3)\n",
    "system.odes"
   ]
  },
  {
   "cell_type": "code",
   "execution_count": 18,
   "metadata": {},
   "outputs": [
    {
     "data": {
      "text/latex": [
       "$\\displaystyle \\left[\\begin{matrix}- \\frac{\\theta_{0, 0} \\theta_{2, 0}}{\\theta_{1, 0} + y_{0, 0}} + \\frac{\\theta_{0, 0} \\theta_{2, 0} y_{0, 0}}{\\left(\\theta_{1, 0} + y_{0, 0}\\right)^{2}} & 0\\\\\\frac{\\theta_{0, 0}}{\\theta_{1, 0} + y_{0, 0}} - \\frac{\\theta_{0, 0} y_{0, 0}}{\\left(\\theta_{1, 0} + y_{0, 0}\\right)^{2}} & 0\\end{matrix}\\right]$"
      ],
      "text/plain": [
       "Matrix([\n",
       "[-theta[0, 0]*theta[2, 0]/(theta[1, 0] + y[0, 0]) + theta[0, 0]*theta[2, 0]*y[0, 0]/(theta[1, 0] + y[0, 0])**2, 0],\n",
       "[                         theta[0, 0]/(theta[1, 0] + y[0, 0]) - theta[0, 0]*y[0, 0]/(theta[1, 0] + y[0, 0])**2, 0]])"
      ]
     },
     "execution_count": 18,
     "metadata": {},
     "output_type": "execute_result"
    }
   ],
   "source": [
    "system.J"
   ]
  },
  {
   "cell_type": "code",
   "execution_count": 19,
   "metadata": {},
   "outputs": [
    {
     "data": {
      "text/latex": [
       "$\\displaystyle \\left[\\begin{matrix}\\left(- \\frac{\\theta_{0, 0} \\theta_{2, 0}}{\\theta_{1, 0} + y_{0, 0}} + \\frac{\\theta_{0, 0} \\theta_{2, 0} y_{0, 0}}{\\left(\\theta_{1, 0} + y_{0, 0}\\right)^{2}}\\right) v_{0, 0}\\\\\\left(\\frac{\\theta_{0, 0}}{\\theta_{1, 0} + y_{0, 0}} - \\frac{\\theta_{0, 0} y_{0, 0}}{\\left(\\theta_{1, 0} + y_{0, 0}\\right)^{2}}\\right) v_{0, 0}\\end{matrix}\\right]$"
      ],
      "text/plain": [
       "Matrix([\n",
       "[(-theta[0, 0]*theta[2, 0]/(theta[1, 0] + y[0, 0]) + theta[0, 0]*theta[2, 0]*y[0, 0]/(theta[1, 0] + y[0, 0])**2)*v[0, 0]],\n",
       "[                         (theta[0, 0]/(theta[1, 0] + y[0, 0]) - theta[0, 0]*y[0, 0]/(theta[1, 0] + y[0, 0])**2)*v[0, 0]]])"
      ]
     },
     "execution_count": 19,
     "metadata": {},
     "output_type": "execute_result"
    }
   ],
   "source": [
    "system.Jv"
   ]
  },
  {
   "cell_type": "code",
   "execution_count": 20,
   "metadata": {},
   "outputs": [
    {
     "data": {
      "text/latex": [
       "$\\displaystyle \\left[\\begin{matrix}- \\frac{\\theta_{2, 0} y_{0, 0}}{\\theta_{1, 0} + y_{0, 0}} & \\frac{\\theta_{0, 0} \\theta_{2, 0} y_{0, 0}}{\\left(\\theta_{1, 0} + y_{0, 0}\\right)^{2}} & - \\frac{\\theta_{0, 0} y_{0, 0}}{\\theta_{1, 0} + y_{0, 0}}\\\\\\frac{y_{0, 0}}{\\theta_{1, 0} + y_{0, 0}} & - \\frac{\\theta_{0, 0} y_{0, 0}}{\\left(\\theta_{1, 0} + y_{0, 0}\\right)^{2}} & 0\\end{matrix}\\right]$"
      ],
      "text/plain": [
       "Matrix([\n",
       "[-theta[2, 0]*y[0, 0]/(theta[1, 0] + y[0, 0]), theta[0, 0]*theta[2, 0]*y[0, 0]/(theta[1, 0] + y[0, 0])**2, -theta[0, 0]*y[0, 0]/(theta[1, 0] + y[0, 0])],\n",
       "[             y[0, 0]/(theta[1, 0] + y[0, 0]),            -theta[0, 0]*y[0, 0]/(theta[1, 0] + y[0, 0])**2,                                            0]])"
      ]
     },
     "execution_count": 20,
     "metadata": {},
     "output_type": "execute_result"
    }
   ],
   "source": [
    "system.dy_dtheta"
   ]
  },
  {
   "cell_type": "code",
   "execution_count": null,
   "metadata": {},
   "outputs": [],
   "source": []
  }
 ],
 "metadata": {
  "kernelspec": {
   "display_name": "Python 3",
   "language": "python",
   "name": "python3"
  },
  "language_info": {
   "codemirror_mode": {
    "name": "ipython",
    "version": 3
   },
   "file_extension": ".py",
   "mimetype": "text/x-python",
   "name": "python",
   "nbconvert_exporter": "python",
   "pygments_lexer": "ipython3",
   "version": "3.6.9"
  }
 },
 "nbformat": 4,
 "nbformat_minor": 2
}
